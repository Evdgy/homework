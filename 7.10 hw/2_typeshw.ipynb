{
 "cells": [
  {
   "cell_type": "code",
   "execution_count": 2,
   "id": "ba4bd1fd-7236-4824-b437-b5cb059a8ea7",
   "metadata": {},
   "outputs": [
    {
     "name": "stdin",
     "output_type": "stream",
     "text": [
      "Введите число от 0 до 10: 6\n"
     ]
    },
    {
     "name": "stdout",
     "output_type": "stream",
     "text": [
      "А вот и нет! Это число 1\n"
     ]
    }
   ],
   "source": [
    "# Gusse the number\n",
    "import random\n",
    "magic_number = random.randint(1, 10)\n",
    "user_number = int(input(\"Введите число от 0 до 10:\"))\n",
    "if user_number == magic_number:\n",
    "    print(\"Поздравляю вы угадали!\")\n",
    "else:\n",
    "         print('А вот и нет! Это число', magic_number)\n",
    "                        \n",
    "            "
   ]
  },
  {
   "cell_type": "code",
   "execution_count": 2,
   "id": "f132ae61-4b34-415d-a626-83212e919566",
   "metadata": {},
   "outputs": [
    {
     "name": "stdin",
     "output_type": "stream",
     "text": [
      "Enter your name:  Антон\n"
     ]
    },
    {
     "name": "stdout",
     "output_type": "stream",
     "text": [
      "Привет, Антон!\n"
     ]
    }
   ],
   "source": [
    "# Greeting\n",
    "user_input = input(\"Enter your name: \")\n",
    "print(f\"Привет, {user_input}!\")"
   ]
  },
  {
   "cell_type": "code",
   "execution_count": 15,
   "id": "bafbd5e9-1e2d-44e3-b7a2-7ed5213c590c",
   "metadata": {
    "scrolled": true
   },
   "outputs": [
    {
     "name": "stdin",
     "output_type": "stream",
     "text": [
      "Введите температуру в градусах Цельсиях 5\n"
     ]
    },
    {
     "name": "stdout",
     "output_type": "stream",
     "text": [
      "Температура в градусах Цельсия 5.0\n",
      "Температура в градусах Фаренгейта 41.0\n",
      "Температура в градусах Цельсия 5.0\n",
      "Температура в градусах Фаренгейта 41\n",
      "Температура в градусах Цельсия 5.0\n",
      "Температура в градусах Фаренгейта 41\n"
     ]
    }
   ],
   "source": [
    "# Temperature converter\n",
    "t = float(input(\"Введите температуру в градусах Цельсиях\"))\n",
    "f = (t * 1.8) + 32 \n",
    "\n",
    "print(f\"Температура в градусах Цельсия {t}\\nТемпература в градусах Фаренгейта {f}\")\n",
    "\n",
    "\n",
    "f1 = int((t * 1.8) + 32)\n",
    "print(f\"Температура в градусах Цельсия {t}\\nТемпература в градусах Фаренгейта {f1}\")\n",
    "\n",
    "\n",
    "fr = round((t * 1.8) + 32)\n",
    "print(f\"Температура в градусах Цельсия {t}\\nТемпература в градусах Фаренгейта {fr}\")\n",
    "\n"
   ]
  },
  {
   "cell_type": "code",
   "execution_count": 16,
   "id": "0b969235-5f3f-47fe-b93c-76499fb24a3d",
   "metadata": {},
   "outputs": [
    {
     "name": "stdout",
     "output_type": "stream",
     "text": [
      "Температура в градусах Цельсия: 5.0 \n",
      "Температура в градусах Фаренгейта: 41\n"
     ]
    }
   ],
   "source": [
    "# Type conversion \n",
    "str1 = str(t)\n",
    "str2 = str(f1)\n",
    "print(\"Температура в градусах Цельсия: \" + str1  + \" \\nТемпература в градусах Фаренгейта: \"+ str2)\n",
    "\n"
   ]
  },
  {
   "cell_type": "code",
   "execution_count": 19,
   "id": "d3169121-fd3d-4fa2-b928-5dc36010a267",
   "metadata": {},
   "outputs": [
    {
     "name": "stdin",
     "output_type": "stream",
     "text": [
      "Введите первое число: 5\n",
      "Введите второе число 2\n"
     ]
    },
    {
     "name": "stdout",
     "output_type": "stream",
     "text": [
      "Рузультат сложения 7\n",
      "Рузультат вычитания 3\n",
      "Рузультат умножения 10\n",
      "Результат возведения во вторую степень первого числа 25\n",
      "Результат возведения во вторую степень первого числа 4\n"
     ]
    }
   ],
   "source": [
    "# calculator\n",
    "num1 = int(input(\"Введите первое число:\"))\n",
    "num2 = int(input(\"Введите второе число\"))\n",
    "sum1 = num1 + num2\n",
    "print(\"Рузультат сложения\", (sum1))\n",
    "sub = num1 - num2\n",
    "print(\"Рузультат вычитания\", (sub))\n",
    "var1 = num1 * num2 \n",
    "print(f\"Рузультат умножения\", (var1))\n",
    "double1 = num1 ** 2\n",
    "print(\"Результат возведения во вторую степень первого числа\", (double1))\n",
    "double2 = num2 ** 2\n",
    "print(\"Результат возведения во вторую степень первого числа\", (double2))\n",
    "\n",
    "\n"
   ]
  },
  {
   "cell_type": "code",
   "execution_count": 32,
   "id": "0e9b6443-1467-4333-bf17-94adbd24fdb9",
   "metadata": {},
   "outputs": [
    {
     "name": "stdin",
     "output_type": "stream",
     "text": [
      "Ваше имя Ваш возраст Ваша профессия Антон 25 слесарь\n"
     ]
    },
    {
     "name": "stdout",
     "output_type": "stream",
     "text": [
      "Имя: Антон\n",
      "Возраст: 25\n",
      "Профессия: слесарь\n"
     ]
    }
   ],
   "source": [
    "# form\n",
    "name, age, profession = input(\"Ваше имя Ваш возраст Ваша профессия\").split()\n",
    "print(f\"Имя: {name}\\nВозраст: {age}\\nПрофессия: {profession}\")"
   ]
  },
  {
   "cell_type": "code",
   "execution_count": 32,
   "id": "2c3d434e-1552-4688-aa1d-a13e81f4f7a1",
   "metadata": {},
   "outputs": [
    {
     "name": "stdin",
     "output_type": "stream",
     "text": [
      "Введите информацию в первую переменную Введите информацию во вторую переменную a p\n"
     ]
    },
    {
     "name": "stdout",
     "output_type": "stream",
     "text": [
      "В первой переменной хранится a\n",
      "Во второй переменной хранится p\n",
      "Меняем местами...\n",
      "В первой переменной хранится p\n",
      "Во второй переменной хранится a\n"
     ]
    }
   ],
   "source": [
    "# Поменять местами переменные\n",
    "var1, var2 = input(\"Введите информацию в первую переменную Введите информацию во вторую переменную\"). split()\n",
    "print(f\"В первой переменной хранится {var1}\\nВо второй переменной хранится {var2}\")\n",
    "var1, var2 = var2, var1\n",
    "print(\"Меняем местами...\")\n",
    "print(f\"В первой переменной хранится {var1}\\nВо второй переменной хранится {var2}\")\n"
   ]
  },
  {
   "cell_type": "code",
   "execution_count": 29,
   "id": "accb70fc-76ce-4d90-861e-8cf4e63fc12b",
   "metadata": {},
   "outputs": [
    {
     "name": "stdout",
     "output_type": "stream",
     "text": [
      "Сумма: 8\n",
      "Произведение: 15\n"
     ]
    }
   ],
   "source": [
    "# дописать функцию\n",
    "def sum_and_product(a, b):\n",
    "    total_sum = a + b\n",
    "    product = a * b\n",
    "    return total_sum, product    \n",
    "print(f\"Сумма: {sum_and_product(5,3)[0]}\\nПроизведение: {sum_and_product(5,3)[1]}\")"
   ]
  },
  {
   "cell_type": "code",
   "execution_count": 33,
   "id": "1ccdb972-7e58-4f3f-8741-4d809b9eff26",
   "metadata": {},
   "outputs": [
    {
     "name": "stdin",
     "output_type": "stream",
     "text": [
      "Введите число 4\n",
      "Введите еще одно число 2\n"
     ]
    },
    {
     "name": "stdout",
     "output_type": "stream",
     "text": [
      "Результат сложения 42\n",
      "Результат сложения 6\n"
     ]
    }
   ],
   "source": [
    "# строка и число\n",
    "num1 = input(\"Введите число\")\n",
    "num2 = input(\"Введите еще одно число\")\n",
    "sum1 = num1+num2\n",
    "sum2 = int(num1) + int(num2) # конкатенация строк str(10) + str(1)\n",
    "print (f\"Результат сложения {sum1}\\nРезультат сложения {sum2}\")\n"
   ]
  },
  {
   "cell_type": "code",
   "execution_count": null,
   "id": "bdb75c17-ee7c-42bb-b326-cdcd08c3ac68",
   "metadata": {},
   "outputs": [],
   "source": []
  }
 ],
 "metadata": {
  "kernelspec": {
   "display_name": "Python 3 (ipykernel)",
   "language": "python",
   "name": "python3"
  },
  "language_info": {
   "codemirror_mode": {
    "name": "ipython",
    "version": 3
   },
   "file_extension": ".py",
   "mimetype": "text/x-python",
   "name": "python",
   "nbconvert_exporter": "python",
   "pygments_lexer": "ipython3",
   "version": "3.12.6"
  }
 },
 "nbformat": 4,
 "nbformat_minor": 5
}
