{
 "cells": [
  {
   "cell_type": "code",
   "execution_count": 1,
   "id": "ed769e54-b91c-4233-9843-8a64a7c00441",
   "metadata": {},
   "outputs": [
    {
     "name": "stdout",
     "output_type": "stream",
     "text": [
      "30\n"
     ]
    }
   ],
   "source": [
    "# Напишите код для сложения 2-х чисел\n",
    "num1 = 10\n",
    "num2 = 20\n",
    "result = num1 + num2\n",
    "print(result)"
   ]
  },
  {
   "cell_type": "code",
   "execution_count": 2,
   "id": "3030ad83-3c90-4985-a0ea-00208cdc040d",
   "metadata": {},
   "outputs": [
    {
     "name": "stdout",
     "output_type": "stream",
     "text": [
      "-10\n"
     ]
    }
   ],
   "source": [
    "# Напишите код для вычитания 2-х чисел\n",
    "num1 = 10\n",
    "num2 = 20\n",
    "result = num1 - num2\n",
    "print(result)"
   ]
  },
  {
   "cell_type": "code",
   "execution_count": 3,
   "id": "9fafef37-18f3-4241-8ec2-fd1d64d1423d",
   "metadata": {},
   "outputs": [
    {
     "name": "stdout",
     "output_type": "stream",
     "text": [
      "200\n"
     ]
    }
   ],
   "source": [
    "# Напишите код для умножения 2-х чисел\n",
    "num1 = 10\n",
    "num2 = 20\n",
    "result = num1 * num2\n",
    "print(result)\n"
   ]
  },
  {
   "cell_type": "code",
   "execution_count": 4,
   "id": "d1e3144f-3cbb-409c-83cf-067bc157229c",
   "metadata": {},
   "outputs": [
    {
     "name": "stdout",
     "output_type": "stream",
     "text": [
      "0.5\n"
     ]
    }
   ],
   "source": [
    "# Напишите код для деления 2-х чисел\n",
    "num1 = 10\n",
    "num2 = 20\n",
    "result = num1 / num2\n",
    "print(result)"
   ]
  },
  {
   "cell_type": "code",
   "execution_count": 5,
   "id": "f5ba8726-4f24-4f66-85e3-53f29ed75c56",
   "metadata": {},
   "outputs": [
    {
     "name": "stdout",
     "output_type": "stream",
     "text": [
      "Hello, World!\n"
     ]
    }
   ],
   "source": [
    "str1 = \"Hello, \"\n",
    "str2 = \"World!\"\n",
    "result = str1 + str2\n",
    "print(result)"
   ]
  },
  {
   "cell_type": "code",
   "execution_count": 6,
   "id": "8df568f0-f85e-4542-a9d7-77cb5a0168b2",
   "metadata": {},
   "outputs": [
    {
     "name": "stdout",
     "output_type": "stream",
     "text": [
      "Hello, 10\n"
     ]
    }
   ],
   "source": [
    "str1 = \"Hello, \"\n",
    "num1 = \"10\"\n",
    "result = str1 + num1\n",
    "print(result)"
   ]
  },
  {
   "cell_type": "code",
   "execution_count": 7,
   "id": "04d7658e-03d4-4b25-9abf-70d655554356",
   "metadata": {},
   "outputs": [
    {
     "name": "stdout",
     "output_type": "stream",
     "text": [
      "30\n",
      "-10\n",
      "200\n",
      "0.5\n"
     ]
    }
   ],
   "source": [
    "# Выведите на экран результат вычитания 2-х чисел с помощью оператора +=\n",
    "num1 = 10\n",
    "num2 = 20\n",
    "num1 += num2\n",
    "print(num1)\n",
    "# Выведите на экран результат вычитания 2-х чисел с помощью оператора -=\n",
    "num1 = 10\n",
    "num2 = 20\n",
    "num1 -= num2\n",
    "print(num1)\n",
    "# Выведите на экран результат умножения 2-х чисел с помощью оператора *=\n",
    "num1 = 10\n",
    "num2 = 20\n",
    "num1 *= num2\n",
    "print(num1)\n",
    "# Выведите на экран результат деления 2-х чисел с помощью оператора /=\n",
    "num1 = 10\n",
    "num2 = 20\n",
    "num1 /= num2\n",
    "print(num1)\n"
   ]
  }
 ],
 "metadata": {
  "kernelspec": {
   "display_name": "Python 3 (ipykernel)",
   "language": "python",
   "name": "python3"
  },
  "language_info": {
   "codemirror_mode": {
    "name": "ipython",
    "version": 3
   },
   "file_extension": ".py",
   "mimetype": "text/x-python",
   "name": "python",
   "nbconvert_exporter": "python",
   "pygments_lexer": "ipython3",
   "version": "3.12.6"
  }
 },
 "nbformat": 4,
 "nbformat_minor": 5
}
