{
 "cells": [
  {
   "cell_type": "code",
   "execution_count": 7,
   "id": "ba4bd1fd-7236-4824-b437-b5cb059a8ea7",
   "metadata": {},
   "outputs": [
    {
     "name": "stdin",
     "output_type": "stream",
     "text": [
      "Введите число от 0 до 10: 6\n"
     ]
    },
    {
     "name": "stdout",
     "output_type": "stream",
     "text": [
      "А вот и нет! Это число 1\n"
     ]
    }
   ],
   "source": [
    "# Gusse the number\n",
    "import random\n",
    "magic_number = random.randint(1, 10)\n",
    "user_number = int(input(\"Введите число от 0 до 10:\"))\n",
    "if user_number == magic_number:\n",
    "    print(\"Поздравляю вы угадали!\")\n",
    "else:\n",
    "         print('А вот и нет! Это число', magic_number)\n",
    "                        \n",
    "            "
   ]
  },
  {
   "cell_type": "code",
   "execution_count": null,
   "id": "f132ae61-4b34-415d-a626-83212e919566",
   "metadata": {},
   "outputs": [],
   "source": [
    "# Greeting\n"
   ]
  }
 ],
 "metadata": {
  "kernelspec": {
   "display_name": "Python 3 (ipykernel)",
   "language": "python",
   "name": "python3"
  },
  "language_info": {
   "codemirror_mode": {
    "name": "ipython",
    "version": 3
   },
   "file_extension": ".py",
   "mimetype": "text/x-python",
   "name": "python",
   "nbconvert_exporter": "python",
   "pygments_lexer": "ipython3",
   "version": "3.12.6"
  }
 },
 "nbformat": 4,
 "nbformat_minor": 5
}
